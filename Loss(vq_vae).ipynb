{
  "nbformat": 4,
  "nbformat_minor": 0,
  "metadata": {
    "colab": {
      "provenance": [],
      "authorship_tag": "ABX9TyP/QKKB54FX0I2U0hwQ8+kp",
      "include_colab_link": true
    },
    "kernelspec": {
      "name": "python3",
      "display_name": "Python 3"
    },
    "language_info": {
      "name": "python"
    }
  },
  "cells": [
    {
      "cell_type": "markdown",
      "metadata": {
        "id": "view-in-github",
        "colab_type": "text"
      },
      "source": [
        "<a href=\"https://colab.research.google.com/github/Rohit1217/Vq_vae/blob/main/Loss(vq_vae).ipynb\" target=\"_parent\"><img src=\"https://colab.research.google.com/assets/colab-badge.svg\" alt=\"Open In Colab\"/></a>"
      ]
    },
    {
      "cell_type": "code",
      "execution_count": null,
      "metadata": {
        "id": "RzR-I7_M88ch"
      },
      "outputs": [],
      "source": [
        "import torch\n",
        "import torch.nn as nn\n",
        "import torch.nn.functional as F\n",
        "from vq_vae import VQ_VAE"
      ]
    },
    {
      "cell_type": "code",
      "source": [
        "class vqloss(nn.Module):\n",
        "  def __init__(self,beta=0.6):\n",
        "    super(vqloss,self).__init__()\n",
        "    self.b=beta\n",
        "\n",
        "  def forward(self,enc_x,emb_x,pred_x,true_x):\n",
        "    loss1=F.mse_loss(pred_x,true_x)\n",
        "    #print((torch.norm(enc_x-emb_x,dim=1)).shape)\n",
        "    embed_loss= torch.mean(torch.sum((torch.norm(enc_x.detach()-emb_x,dim=1)),(2,1)))\n",
        "    stability_loss= self.b*(torch.mean(torch.sum((torch.norm(enc_x-emb_x.detach(),dim=1)),(2,1))))\n",
        "\n",
        "    loss=loss1+embed_loss+stability_loss\n",
        "\n",
        "    return loss\n",
        "\n",
        "loss=vqloss()\n",
        "vq_vae=VQ_VAE()\n",
        "x=torch.randn(2,1,28,28)\n",
        "y=vq_vae(x)\n",
        "\n",
        "loss(y[0],y[1],y[2],x)\n"
      ],
      "metadata": {
        "colab": {
          "base_uri": "https://localhost:8080/"
        },
        "id": "OcwK8lxN9IeD",
        "outputId": "2102f08a-388c-4fbb-e4fe-46164f9f94a7"
      },
      "execution_count": null,
      "outputs": [
        {
          "output_type": "execute_result",
          "data": {
            "text/plain": [
              "tensor(0.9830, grad_fn=<AddBackward0>)"
            ]
          },
          "metadata": {},
          "execution_count": 23
        }
      ]
    }
  ]
}