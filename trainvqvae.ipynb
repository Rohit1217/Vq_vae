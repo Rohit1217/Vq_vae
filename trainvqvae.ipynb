{
  "nbformat": 4,
  "nbformat_minor": 0,
  "metadata": {
    "colab": {
      "provenance": [],
      "gpuType": "T4",
      "authorship_tag": "ABX9TyPaVSNo1PdLeZtzfpdF1t60",
      "include_colab_link": true
    },
    "kernelspec": {
      "name": "python3",
      "display_name": "Python 3"
    },
    "language_info": {
      "name": "python"
    },
    "accelerator": "GPU"
  },
  "cells": [
    {
      "cell_type": "markdown",
      "metadata": {
        "id": "view-in-github",
        "colab_type": "text"
      },
      "source": [
        "<a href=\"https://colab.research.google.com/github/Rohit1217/Vq_vae/blob/main/trainvqvae.ipynb\" target=\"_parent\"><img src=\"https://colab.research.google.com/assets/colab-badge.svg\" alt=\"Open In Colab\"/></a>"
      ]
    },
    {
      "cell_type": "code",
      "execution_count": null,
      "metadata": {
        "id": "45R9ZDEm4I5a"
      },
      "outputs": [],
      "source": [
        "import numpy as np\n",
        "import matplotlib.pyplot as plt\n",
        "\n",
        "import torch\n",
        "import torch.nn as nn\n",
        "import torch.nn.functional as F\n",
        "import torch.optim as optim\n",
        "\n",
        "from torch.utils.data import TensorDataset,DataLoader\n",
        "\n",
        "from datasets_gen import get_mnist_\n",
        "from vq_vae import VQ_VAE"
      ]
    },
    {
      "cell_type": "code",
      "source": [
        "def get_device():\n",
        "  return torch.device(\"cuda\" if torch.cuda.is_available() else \"cpu\")\n",
        "Device=get_device()"
      ],
      "metadata": {
        "id": "SgLfJ3oS7x7g"
      },
      "execution_count": null,
      "outputs": []
    },
    {
      "cell_type": "code",
      "source": [
        "data=get_mnist_()\n",
        "traindata=TensorDataset(data,data)\n",
        "trainloader=DataLoader(traindata,batch_size=128,shuffle=True)"
      ],
      "metadata": {
        "id": "0bJELRWE4iQF"
      },
      "execution_count": null,
      "outputs": []
    },
    {
      "cell_type": "code",
      "source": [
        "model=VQ_VAE()\n",
        "model=model.to(Device)\n",
        "epochs=100\n",
        "criterion=nn.CrossEntropyLoss()\n",
        "optimizer=optim.Adam(model.parameters(),lr=0.001)"
      ],
      "metadata": {
        "id": "i06_-P0063Wx"
      },
      "execution_count": null,
      "outputs": []
    },
    {
      "cell_type": "code",
      "source": [
        "loss_list=[]\n",
        "for epoch in range(epochs):\n",
        "  total_loss=0\n",
        "  count=0\n",
        "  for input,target in trainloader:\n",
        "    input,target=input.to(Device),target.to(Device)\n",
        "    pred=model(input)\n",
        "    loss=criterion(pred[0],pred[1],pred[2],target)\n",
        "\n",
        "    total_loss+=loss.item()\n",
        "    count+=1\n",
        "\n",
        "    optimizer.zero_grad()\n",
        "    loss.backward()\n",
        "    optimizer.step()\n",
        "\n",
        "  print(f'total_loss={total_loss},avg_loss={total_loss/count},epoch={epoch}')"
      ],
      "metadata": {
        "id": "ENJq7En47yqh"
      },
      "execution_count": null,
      "outputs": []
    }
  ]
}